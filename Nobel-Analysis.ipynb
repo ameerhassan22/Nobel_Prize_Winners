{
 "cells": [
  {
   "cell_type": "markdown",
   "id": "66561046-8b83-4fe5-826a-f58e2bf4338e",
   "metadata": {},
   "source": [
    "# Nobel Prize Winners Analysis"
   ]
  },
  {
   "cell_type": "markdown",
   "id": "d9ac6fe4-3c68-45b6-90d0-e4670dd4ffd6",
   "metadata": {},
   "source": [
    "This dataset list all Nobel laureates (persons and organizations) from 1902. \n",
    "\n",
    "One Nobel Laureate may be awarded more than one Nobel Prize."
   ]
  },
  {
   "cell_type": "markdown",
   "id": "66c60a90-d684-45bf-b91a-6c2d3bee820c",
   "metadata": {
    "tags": []
   },
   "source": [
    "## EDA"
   ]
  },
  {
   "cell_type": "code",
   "execution_count": 30,
   "id": "a1acabd7-67dc-47a7-a158-e6c435b4203c",
   "metadata": {},
   "outputs": [],
   "source": [
    "# import libraries\n",
    "import numpy as np\n",
    "import pandas as pd\n",
    "import matplotlib.pyplot as plt\n",
    "import seaborn as sns"
   ]
  },
  {
   "cell_type": "code",
   "execution_count": 31,
   "id": "b508c9a6-83b1-4c5f-b89a-9c0f1445b7a4",
   "metadata": {
    "tags": []
   },
   "outputs": [],
   "source": [
    "train = pd.read_csv('nobel-prize-laureates.csv',sep=';')"
   ]
  },
  {
   "cell_type": "markdown",
   "id": "a24355ab-9a0f-4f26-abf8-691469a581af",
   "metadata": {
    "tags": []
   },
   "source": [
    "## understanding the data"
   ]
  },
  {
   "cell_type": "code",
   "execution_count": 32,
   "id": "a30694ed-d8c6-4fb8-bac0-851deb7c7031",
   "metadata": {
    "tags": []
   },
   "outputs": [
    {
     "name": "stdout",
     "output_type": "stream",
     "text": [
      "<class 'pandas.core.frame.DataFrame'>\n",
      "RangeIndex: 989 entries, 0 to 988\n",
      "Data columns (total 21 columns):\n",
      " #   Column                Non-Null Count  Dtype \n",
      "---  ------                --------------  ----- \n",
      " 0   Id                    989 non-null    int64 \n",
      " 1   Firstname             988 non-null    object\n",
      " 2   Surname               956 non-null    object\n",
      " 3   Born                  949 non-null    object\n",
      " 4   Died                  662 non-null    object\n",
      " 5   Born country          958 non-null    object\n",
      " 6   Born country code     958 non-null    object\n",
      " 7   Born city             956 non-null    object\n",
      " 8   Died country          650 non-null    object\n",
      " 9   Died country code     650 non-null    object\n",
      " 10  Died city             644 non-null    object\n",
      " 11  Gender                989 non-null    object\n",
      " 12  Year                  989 non-null    int64 \n",
      " 13  Category              989 non-null    object\n",
      " 14  Overall motivation    23 non-null     object\n",
      " 15  Motivation            989 non-null    object\n",
      " 16  Organization name     727 non-null    object\n",
      " 17  Organization city     722 non-null    object\n",
      " 18  Organization country  724 non-null    object\n",
      " 19  Geo Shape             631 non-null    object\n",
      " 20  Geo Point 2D          631 non-null    object\n",
      "dtypes: int64(2), object(19)\n",
      "memory usage: 162.4+ KB\n"
     ]
    }
   ],
   "source": [
    "# see information about data\n",
    "train.info()"
   ]
  },
  {
   "cell_type": "code",
   "execution_count": 33,
   "id": "3a515402-aaef-44e9-b0e6-5aad9b083bc8",
   "metadata": {
    "tags": []
   },
   "outputs": [
    {
     "data": {
      "text/html": [
       "<div>\n",
       "<style scoped>\n",
       "    .dataframe tbody tr th:only-of-type {\n",
       "        vertical-align: middle;\n",
       "    }\n",
       "\n",
       "    .dataframe tbody tr th {\n",
       "        vertical-align: top;\n",
       "    }\n",
       "\n",
       "    .dataframe thead th {\n",
       "        text-align: right;\n",
       "    }\n",
       "</style>\n",
       "<table border=\"1\" class=\"dataframe\">\n",
       "  <thead>\n",
       "    <tr style=\"text-align: right;\">\n",
       "      <th></th>\n",
       "      <th>Id</th>\n",
       "      <th>Firstname</th>\n",
       "      <th>Surname</th>\n",
       "      <th>Born</th>\n",
       "      <th>Died</th>\n",
       "      <th>Born country</th>\n",
       "      <th>Born country code</th>\n",
       "      <th>Born city</th>\n",
       "      <th>Died country</th>\n",
       "      <th>Died country code</th>\n",
       "      <th>...</th>\n",
       "      <th>Gender</th>\n",
       "      <th>Year</th>\n",
       "      <th>Category</th>\n",
       "      <th>Overall motivation</th>\n",
       "      <th>Motivation</th>\n",
       "      <th>Organization name</th>\n",
       "      <th>Organization city</th>\n",
       "      <th>Organization country</th>\n",
       "      <th>Geo Shape</th>\n",
       "      <th>Geo Point 2D</th>\n",
       "    </tr>\n",
       "  </thead>\n",
       "  <tbody>\n",
       "    <tr>\n",
       "      <th>0</th>\n",
       "      <td>820</td>\n",
       "      <td>Leonid</td>\n",
       "      <td>Hurwicz</td>\n",
       "      <td>1917-08-21</td>\n",
       "      <td>2008-06-24</td>\n",
       "      <td>Russia</td>\n",
       "      <td>RU</td>\n",
       "      <td>Moscow</td>\n",
       "      <td>USA</td>\n",
       "      <td>US</td>\n",
       "      <td>...</td>\n",
       "      <td>male</td>\n",
       "      <td>2007</td>\n",
       "      <td>Economics</td>\n",
       "      <td>NaN</td>\n",
       "      <td>\"for having laid the foundations of mechanism ...</td>\n",
       "      <td>University of Minnesota</td>\n",
       "      <td>Minneapolis MN</td>\n",
       "      <td>USA</td>\n",
       "      <td>{\"coordinates\": [[[[-155.60651897, 20.13795556...</td>\n",
       "      <td>45.68753333949257, -112.49433391594603</td>\n",
       "    </tr>\n",
       "    <tr>\n",
       "      <th>1</th>\n",
       "      <td>28</td>\n",
       "      <td>Robert A.</td>\n",
       "      <td>Millikan</td>\n",
       "      <td>1868-03-22</td>\n",
       "      <td>1953-12-19</td>\n",
       "      <td>USA</td>\n",
       "      <td>US</td>\n",
       "      <td>Morrison IL</td>\n",
       "      <td>USA</td>\n",
       "      <td>US</td>\n",
       "      <td>...</td>\n",
       "      <td>male</td>\n",
       "      <td>1923</td>\n",
       "      <td>Physics</td>\n",
       "      <td>NaN</td>\n",
       "      <td>\"for his work on the elementary charge of elec...</td>\n",
       "      <td>California Institute of Technology (Caltech)</td>\n",
       "      <td>Pasadena CA</td>\n",
       "      <td>USA</td>\n",
       "      <td>{\"coordinates\": [[[[-155.60651897, 20.13795556...</td>\n",
       "      <td>45.68753333949257, -112.49433391594603</td>\n",
       "    </tr>\n",
       "    <tr>\n",
       "      <th>2</th>\n",
       "      <td>90</td>\n",
       "      <td>Murray</td>\n",
       "      <td>Gell-Mann</td>\n",
       "      <td>1929-09-15</td>\n",
       "      <td>2019-05-24</td>\n",
       "      <td>USA</td>\n",
       "      <td>US</td>\n",
       "      <td>New York NY</td>\n",
       "      <td>USA</td>\n",
       "      <td>US</td>\n",
       "      <td>...</td>\n",
       "      <td>male</td>\n",
       "      <td>1969</td>\n",
       "      <td>Physics</td>\n",
       "      <td>NaN</td>\n",
       "      <td>\"for his contributions and discoveries concern...</td>\n",
       "      <td>California Institute of Technology (Caltech)</td>\n",
       "      <td>Pasadena CA</td>\n",
       "      <td>USA</td>\n",
       "      <td>{\"coordinates\": [[[[-155.60651897, 20.13795556...</td>\n",
       "      <td>45.68753333949257, -112.49433391594603</td>\n",
       "    </tr>\n",
       "    <tr>\n",
       "      <th>3</th>\n",
       "      <td>562</td>\n",
       "      <td>Carlos Filipe Ximenes</td>\n",
       "      <td>Belo</td>\n",
       "      <td>1948-02-03</td>\n",
       "      <td>NaN</td>\n",
       "      <td>East Timor</td>\n",
       "      <td>TL</td>\n",
       "      <td>Wailacama</td>\n",
       "      <td>NaN</td>\n",
       "      <td>NaN</td>\n",
       "      <td>...</td>\n",
       "      <td>male</td>\n",
       "      <td>1996</td>\n",
       "      <td>Peace</td>\n",
       "      <td>NaN</td>\n",
       "      <td>\"for their work towards a just and peaceful so...</td>\n",
       "      <td>NaN</td>\n",
       "      <td>NaN</td>\n",
       "      <td>NaN</td>\n",
       "      <td>NaN</td>\n",
       "      <td>NaN</td>\n",
       "    </tr>\n",
       "    <tr>\n",
       "      <th>4</th>\n",
       "      <td>569</td>\n",
       "      <td>Sully</td>\n",
       "      <td>Prudhomme</td>\n",
       "      <td>1839-03-16</td>\n",
       "      <td>1907-09-07</td>\n",
       "      <td>France</td>\n",
       "      <td>FR</td>\n",
       "      <td>Paris</td>\n",
       "      <td>France</td>\n",
       "      <td>FR</td>\n",
       "      <td>...</td>\n",
       "      <td>male</td>\n",
       "      <td>1901</td>\n",
       "      <td>Literature</td>\n",
       "      <td>NaN</td>\n",
       "      <td>\"in special recognition of his poetic composit...</td>\n",
       "      <td>NaN</td>\n",
       "      <td>NaN</td>\n",
       "      <td>NaN</td>\n",
       "      <td>NaN</td>\n",
       "      <td>NaN</td>\n",
       "    </tr>\n",
       "  </tbody>\n",
       "</table>\n",
       "<p>5 rows × 21 columns</p>\n",
       "</div>"
      ],
      "text/plain": [
       "    Id              Firstname    Surname        Born        Died Born country  \\\n",
       "0  820                 Leonid    Hurwicz  1917-08-21  2008-06-24       Russia   \n",
       "1   28              Robert A.   Millikan  1868-03-22  1953-12-19          USA   \n",
       "2   90                 Murray  Gell-Mann  1929-09-15  2019-05-24          USA   \n",
       "3  562  Carlos Filipe Ximenes       Belo  1948-02-03         NaN   East Timor   \n",
       "4  569                  Sully  Prudhomme  1839-03-16  1907-09-07       France   \n",
       "\n",
       "  Born country code    Born city Died country Died country code  ... Gender  \\\n",
       "0                RU       Moscow          USA                US  ...   male   \n",
       "1                US  Morrison IL          USA                US  ...   male   \n",
       "2                US  New York NY          USA                US  ...   male   \n",
       "3                TL    Wailacama          NaN               NaN  ...   male   \n",
       "4                FR        Paris       France                FR  ...   male   \n",
       "\n",
       "   Year    Category Overall motivation  \\\n",
       "0  2007   Economics                NaN   \n",
       "1  1923     Physics                NaN   \n",
       "2  1969     Physics                NaN   \n",
       "3  1996       Peace                NaN   \n",
       "4  1901  Literature                NaN   \n",
       "\n",
       "                                          Motivation  \\\n",
       "0  \"for having laid the foundations of mechanism ...   \n",
       "1  \"for his work on the elementary charge of elec...   \n",
       "2  \"for his contributions and discoveries concern...   \n",
       "3  \"for their work towards a just and peaceful so...   \n",
       "4  \"in special recognition of his poetic composit...   \n",
       "\n",
       "                              Organization name Organization city  \\\n",
       "0                       University of Minnesota    Minneapolis MN   \n",
       "1  California Institute of Technology (Caltech)       Pasadena CA   \n",
       "2  California Institute of Technology (Caltech)       Pasadena CA   \n",
       "3                                           NaN               NaN   \n",
       "4                                           NaN               NaN   \n",
       "\n",
       "  Organization country                                          Geo Shape  \\\n",
       "0                  USA  {\"coordinates\": [[[[-155.60651897, 20.13795556...   \n",
       "1                  USA  {\"coordinates\": [[[[-155.60651897, 20.13795556...   \n",
       "2                  USA  {\"coordinates\": [[[[-155.60651897, 20.13795556...   \n",
       "3                  NaN                                                NaN   \n",
       "4                  NaN                                                NaN   \n",
       "\n",
       "                             Geo Point 2D  \n",
       "0  45.68753333949257, -112.49433391594603  \n",
       "1  45.68753333949257, -112.49433391594603  \n",
       "2  45.68753333949257, -112.49433391594603  \n",
       "3                                     NaN  \n",
       "4                                     NaN  \n",
       "\n",
       "[5 rows x 21 columns]"
      ]
     },
     "execution_count": 33,
     "metadata": {},
     "output_type": "execute_result"
    }
   ],
   "source": [
    "# see colunm and rows of data\n",
    "train.head()"
   ]
  },
  {
   "cell_type": "code",
   "execution_count": 34,
   "id": "6c88d160-b2d5-40f4-93e6-c345d956e3dc",
   "metadata": {
    "tags": []
   },
   "outputs": [
    {
     "data": {
      "text/plain": [
       "(989, 21)"
      ]
     },
     "execution_count": 34,
     "metadata": {},
     "output_type": "execute_result"
    }
   ],
   "source": [
    "# see shape of data\n",
    "train.shape"
   ]
  },
  {
   "cell_type": "code",
   "execution_count": 35,
   "id": "9797e926-e527-404a-a411-7f37bcb729b7",
   "metadata": {
    "tags": []
   },
   "outputs": [
    {
     "data": {
      "text/plain": [
       "Index(['Id', 'Firstname', 'Surname', 'Born', 'Died', 'Born country',\n",
       "       'Born country code', 'Born city', 'Died country', 'Died country code',\n",
       "       'Died city', 'Gender', 'Year', 'Category', 'Overall motivation',\n",
       "       'Motivation', 'Organization name', 'Organization city',\n",
       "       'Organization country', 'Geo Shape', 'Geo Point 2D'],\n",
       "      dtype='object')"
      ]
     },
     "execution_count": 35,
     "metadata": {},
     "output_type": "execute_result"
    }
   ],
   "source": [
    "# see colunms names\n",
    "train.columns"
   ]
  },
  {
   "cell_type": "code",
   "execution_count": 36,
   "id": "bc013672-5c11-4d2d-9359-587c3ac45c0b",
   "metadata": {
    "tags": []
   },
   "outputs": [
    {
     "data": {
      "text/plain": [
       "Id                       int64\n",
       "Firstname               object\n",
       "Surname                 object\n",
       "Born                    object\n",
       "Died                    object\n",
       "Born country            object\n",
       "Born country code       object\n",
       "Born city               object\n",
       "Died country            object\n",
       "Died country code       object\n",
       "Died city               object\n",
       "Gender                  object\n",
       "Year                     int64\n",
       "Category                object\n",
       "Overall motivation      object\n",
       "Motivation              object\n",
       "Organization name       object\n",
       "Organization city       object\n",
       "Organization country    object\n",
       "Geo Shape               object\n",
       "Geo Point 2D            object\n",
       "dtype: object"
      ]
     },
     "execution_count": 36,
     "metadata": {},
     "output_type": "execute_result"
    }
   ],
   "source": [
    "# see types of colunms\n",
    "train.dtypes"
   ]
  },
  {
   "cell_type": "code",
   "execution_count": 37,
   "id": "53665f9e-43dc-4f1e-8390-8899899d7465",
   "metadata": {
    "tags": []
   },
   "outputs": [
    {
     "data": {
      "text/plain": [
       "Id                      981\n",
       "Firstname               751\n",
       "Surname                 898\n",
       "Born                    930\n",
       "Died                    650\n",
       "Born country            126\n",
       "Born country code        81\n",
       "Born city               644\n",
       "Died country             52\n",
       "Died country code        46\n",
       "Died city               318\n",
       "Gender                    3\n",
       "Year                    119\n",
       "Category                  6\n",
       "Overall motivation        9\n",
       "Motivation              684\n",
       "Organization name       318\n",
       "Organization city       189\n",
       "Organization country     29\n",
       "Geo Shape                26\n",
       "Geo Point 2D             26\n",
       "dtype: int64"
      ]
     },
     "execution_count": 37,
     "metadata": {},
     "output_type": "execute_result"
    }
   ],
   "source": [
    "## see unquies values\n",
    "train.nunique()"
   ]
  },
  {
   "cell_type": "code",
   "execution_count": 38,
   "id": "9d778eb6-ba02-41e4-9ba1-0d1ad6603104",
   "metadata": {
    "tags": []
   },
   "outputs": [
    {
     "name": "stdout",
     "output_type": "stream",
     "text": [
      "Gender:\n",
      "male      898\n",
      "female     61\n",
      "org        30\n",
      "Name: Gender, dtype: int64\n",
      "Category:\n",
      "Medicine      225\n",
      "Physics       222\n",
      "Chemistry     191\n",
      "Peace         140\n",
      "Literature    119\n",
      "Economics      92\n",
      "Name: Category, dtype: int64\n"
     ]
    }
   ],
   "source": [
    "# see values counnts\n",
    "print('Gender:',train.Gender.value_counts(),'Category:',train.Category.value_counts(),sep='\\n')"
   ]
  },
  {
   "cell_type": "markdown",
   "id": "77c0ab77-decc-48b7-a4de-4c4b21c02f0d",
   "metadata": {
    "tags": []
   },
   "source": [
    "## Data Cleaning"
   ]
  },
  {
   "cell_type": "code",
   "execution_count": 39,
   "id": "59eb291b-a55c-47d5-bcc7-08aff4064476",
   "metadata": {
    "tags": []
   },
   "outputs": [
    {
     "data": {
      "text/html": [
       "<div>\n",
       "<style scoped>\n",
       "    .dataframe tbody tr th:only-of-type {\n",
       "        vertical-align: middle;\n",
       "    }\n",
       "\n",
       "    .dataframe tbody tr th {\n",
       "        vertical-align: top;\n",
       "    }\n",
       "\n",
       "    .dataframe thead th {\n",
       "        text-align: right;\n",
       "    }\n",
       "</style>\n",
       "<table border=\"1\" class=\"dataframe\">\n",
       "  <thead>\n",
       "    <tr style=\"text-align: right;\">\n",
       "      <th></th>\n",
       "      <th>Id</th>\n",
       "      <th>Firstname</th>\n",
       "      <th>Surname</th>\n",
       "      <th>Born</th>\n",
       "      <th>Died</th>\n",
       "      <th>Born country</th>\n",
       "      <th>Born country code</th>\n",
       "      <th>Born city</th>\n",
       "      <th>Died country</th>\n",
       "      <th>Died country code</th>\n",
       "      <th>...</th>\n",
       "      <th>Gender</th>\n",
       "      <th>Year</th>\n",
       "      <th>Category</th>\n",
       "      <th>Overall motivation</th>\n",
       "      <th>Motivation</th>\n",
       "      <th>Organization name</th>\n",
       "      <th>Organization city</th>\n",
       "      <th>Organization country</th>\n",
       "      <th>Geo Shape</th>\n",
       "      <th>Geo Point 2D</th>\n",
       "    </tr>\n",
       "  </thead>\n",
       "  <tbody>\n",
       "    <tr>\n",
       "      <th>0</th>\n",
       "      <td>False</td>\n",
       "      <td>False</td>\n",
       "      <td>False</td>\n",
       "      <td>False</td>\n",
       "      <td>False</td>\n",
       "      <td>False</td>\n",
       "      <td>False</td>\n",
       "      <td>False</td>\n",
       "      <td>False</td>\n",
       "      <td>False</td>\n",
       "      <td>...</td>\n",
       "      <td>False</td>\n",
       "      <td>False</td>\n",
       "      <td>False</td>\n",
       "      <td>True</td>\n",
       "      <td>False</td>\n",
       "      <td>False</td>\n",
       "      <td>False</td>\n",
       "      <td>False</td>\n",
       "      <td>False</td>\n",
       "      <td>False</td>\n",
       "    </tr>\n",
       "    <tr>\n",
       "      <th>1</th>\n",
       "      <td>False</td>\n",
       "      <td>False</td>\n",
       "      <td>False</td>\n",
       "      <td>False</td>\n",
       "      <td>False</td>\n",
       "      <td>False</td>\n",
       "      <td>False</td>\n",
       "      <td>False</td>\n",
       "      <td>False</td>\n",
       "      <td>False</td>\n",
       "      <td>...</td>\n",
       "      <td>False</td>\n",
       "      <td>False</td>\n",
       "      <td>False</td>\n",
       "      <td>True</td>\n",
       "      <td>False</td>\n",
       "      <td>False</td>\n",
       "      <td>False</td>\n",
       "      <td>False</td>\n",
       "      <td>False</td>\n",
       "      <td>False</td>\n",
       "    </tr>\n",
       "    <tr>\n",
       "      <th>2</th>\n",
       "      <td>False</td>\n",
       "      <td>False</td>\n",
       "      <td>False</td>\n",
       "      <td>False</td>\n",
       "      <td>False</td>\n",
       "      <td>False</td>\n",
       "      <td>False</td>\n",
       "      <td>False</td>\n",
       "      <td>False</td>\n",
       "      <td>False</td>\n",
       "      <td>...</td>\n",
       "      <td>False</td>\n",
       "      <td>False</td>\n",
       "      <td>False</td>\n",
       "      <td>True</td>\n",
       "      <td>False</td>\n",
       "      <td>False</td>\n",
       "      <td>False</td>\n",
       "      <td>False</td>\n",
       "      <td>False</td>\n",
       "      <td>False</td>\n",
       "    </tr>\n",
       "    <tr>\n",
       "      <th>3</th>\n",
       "      <td>False</td>\n",
       "      <td>False</td>\n",
       "      <td>False</td>\n",
       "      <td>False</td>\n",
       "      <td>True</td>\n",
       "      <td>False</td>\n",
       "      <td>False</td>\n",
       "      <td>False</td>\n",
       "      <td>True</td>\n",
       "      <td>True</td>\n",
       "      <td>...</td>\n",
       "      <td>False</td>\n",
       "      <td>False</td>\n",
       "      <td>False</td>\n",
       "      <td>True</td>\n",
       "      <td>False</td>\n",
       "      <td>True</td>\n",
       "      <td>True</td>\n",
       "      <td>True</td>\n",
       "      <td>True</td>\n",
       "      <td>True</td>\n",
       "    </tr>\n",
       "    <tr>\n",
       "      <th>4</th>\n",
       "      <td>False</td>\n",
       "      <td>False</td>\n",
       "      <td>False</td>\n",
       "      <td>False</td>\n",
       "      <td>False</td>\n",
       "      <td>False</td>\n",
       "      <td>False</td>\n",
       "      <td>False</td>\n",
       "      <td>False</td>\n",
       "      <td>False</td>\n",
       "      <td>...</td>\n",
       "      <td>False</td>\n",
       "      <td>False</td>\n",
       "      <td>False</td>\n",
       "      <td>True</td>\n",
       "      <td>False</td>\n",
       "      <td>True</td>\n",
       "      <td>True</td>\n",
       "      <td>True</td>\n",
       "      <td>True</td>\n",
       "      <td>True</td>\n",
       "    </tr>\n",
       "    <tr>\n",
       "      <th>...</th>\n",
       "      <td>...</td>\n",
       "      <td>...</td>\n",
       "      <td>...</td>\n",
       "      <td>...</td>\n",
       "      <td>...</td>\n",
       "      <td>...</td>\n",
       "      <td>...</td>\n",
       "      <td>...</td>\n",
       "      <td>...</td>\n",
       "      <td>...</td>\n",
       "      <td>...</td>\n",
       "      <td>...</td>\n",
       "      <td>...</td>\n",
       "      <td>...</td>\n",
       "      <td>...</td>\n",
       "      <td>...</td>\n",
       "      <td>...</td>\n",
       "      <td>...</td>\n",
       "      <td>...</td>\n",
       "      <td>...</td>\n",
       "      <td>...</td>\n",
       "    </tr>\n",
       "    <tr>\n",
       "      <th>984</th>\n",
       "      <td>False</td>\n",
       "      <td>False</td>\n",
       "      <td>False</td>\n",
       "      <td>False</td>\n",
       "      <td>False</td>\n",
       "      <td>False</td>\n",
       "      <td>False</td>\n",
       "      <td>False</td>\n",
       "      <td>False</td>\n",
       "      <td>False</td>\n",
       "      <td>...</td>\n",
       "      <td>False</td>\n",
       "      <td>False</td>\n",
       "      <td>False</td>\n",
       "      <td>False</td>\n",
       "      <td>False</td>\n",
       "      <td>False</td>\n",
       "      <td>False</td>\n",
       "      <td>False</td>\n",
       "      <td>False</td>\n",
       "      <td>False</td>\n",
       "    </tr>\n",
       "    <tr>\n",
       "      <th>985</th>\n",
       "      <td>False</td>\n",
       "      <td>False</td>\n",
       "      <td>False</td>\n",
       "      <td>False</td>\n",
       "      <td>False</td>\n",
       "      <td>False</td>\n",
       "      <td>False</td>\n",
       "      <td>False</td>\n",
       "      <td>True</td>\n",
       "      <td>True</td>\n",
       "      <td>...</td>\n",
       "      <td>False</td>\n",
       "      <td>False</td>\n",
       "      <td>False</td>\n",
       "      <td>True</td>\n",
       "      <td>False</td>\n",
       "      <td>False</td>\n",
       "      <td>False</td>\n",
       "      <td>False</td>\n",
       "      <td>False</td>\n",
       "      <td>False</td>\n",
       "    </tr>\n",
       "    <tr>\n",
       "      <th>986</th>\n",
       "      <td>False</td>\n",
       "      <td>False</td>\n",
       "      <td>False</td>\n",
       "      <td>False</td>\n",
       "      <td>False</td>\n",
       "      <td>False</td>\n",
       "      <td>False</td>\n",
       "      <td>False</td>\n",
       "      <td>False</td>\n",
       "      <td>False</td>\n",
       "      <td>...</td>\n",
       "      <td>False</td>\n",
       "      <td>False</td>\n",
       "      <td>False</td>\n",
       "      <td>True</td>\n",
       "      <td>False</td>\n",
       "      <td>False</td>\n",
       "      <td>False</td>\n",
       "      <td>False</td>\n",
       "      <td>False</td>\n",
       "      <td>False</td>\n",
       "    </tr>\n",
       "    <tr>\n",
       "      <th>987</th>\n",
       "      <td>False</td>\n",
       "      <td>False</td>\n",
       "      <td>False</td>\n",
       "      <td>False</td>\n",
       "      <td>False</td>\n",
       "      <td>False</td>\n",
       "      <td>False</td>\n",
       "      <td>False</td>\n",
       "      <td>False</td>\n",
       "      <td>False</td>\n",
       "      <td>...</td>\n",
       "      <td>False</td>\n",
       "      <td>False</td>\n",
       "      <td>False</td>\n",
       "      <td>True</td>\n",
       "      <td>False</td>\n",
       "      <td>False</td>\n",
       "      <td>False</td>\n",
       "      <td>False</td>\n",
       "      <td>False</td>\n",
       "      <td>False</td>\n",
       "    </tr>\n",
       "    <tr>\n",
       "      <th>988</th>\n",
       "      <td>False</td>\n",
       "      <td>False</td>\n",
       "      <td>False</td>\n",
       "      <td>False</td>\n",
       "      <td>True</td>\n",
       "      <td>False</td>\n",
       "      <td>False</td>\n",
       "      <td>False</td>\n",
       "      <td>True</td>\n",
       "      <td>True</td>\n",
       "      <td>...</td>\n",
       "      <td>False</td>\n",
       "      <td>False</td>\n",
       "      <td>False</td>\n",
       "      <td>True</td>\n",
       "      <td>False</td>\n",
       "      <td>False</td>\n",
       "      <td>False</td>\n",
       "      <td>False</td>\n",
       "      <td>False</td>\n",
       "      <td>False</td>\n",
       "    </tr>\n",
       "  </tbody>\n",
       "</table>\n",
       "<p>989 rows × 21 columns</p>\n",
       "</div>"
      ],
      "text/plain": [
       "        Id  Firstname  Surname   Born   Died  Born country  Born country code  \\\n",
       "0    False      False    False  False  False         False              False   \n",
       "1    False      False    False  False  False         False              False   \n",
       "2    False      False    False  False  False         False              False   \n",
       "3    False      False    False  False   True         False              False   \n",
       "4    False      False    False  False  False         False              False   \n",
       "..     ...        ...      ...    ...    ...           ...                ...   \n",
       "984  False      False    False  False  False         False              False   \n",
       "985  False      False    False  False  False         False              False   \n",
       "986  False      False    False  False  False         False              False   \n",
       "987  False      False    False  False  False         False              False   \n",
       "988  False      False    False  False   True         False              False   \n",
       "\n",
       "     Born city  Died country  Died country code  ...  Gender   Year  Category  \\\n",
       "0        False         False              False  ...   False  False     False   \n",
       "1        False         False              False  ...   False  False     False   \n",
       "2        False         False              False  ...   False  False     False   \n",
       "3        False          True               True  ...   False  False     False   \n",
       "4        False         False              False  ...   False  False     False   \n",
       "..         ...           ...                ...  ...     ...    ...       ...   \n",
       "984      False         False              False  ...   False  False     False   \n",
       "985      False          True               True  ...   False  False     False   \n",
       "986      False         False              False  ...   False  False     False   \n",
       "987      False         False              False  ...   False  False     False   \n",
       "988      False          True               True  ...   False  False     False   \n",
       "\n",
       "     Overall motivation  Motivation  Organization name  Organization city  \\\n",
       "0                  True       False              False              False   \n",
       "1                  True       False              False              False   \n",
       "2                  True       False              False              False   \n",
       "3                  True       False               True               True   \n",
       "4                  True       False               True               True   \n",
       "..                  ...         ...                ...                ...   \n",
       "984               False       False              False              False   \n",
       "985                True       False              False              False   \n",
       "986                True       False              False              False   \n",
       "987                True       False              False              False   \n",
       "988                True       False              False              False   \n",
       "\n",
       "     Organization country  Geo Shape  Geo Point 2D  \n",
       "0                   False      False         False  \n",
       "1                   False      False         False  \n",
       "2                   False      False         False  \n",
       "3                    True       True          True  \n",
       "4                    True       True          True  \n",
       "..                    ...        ...           ...  \n",
       "984                 False      False         False  \n",
       "985                 False      False         False  \n",
       "986                 False      False         False  \n",
       "987                 False      False         False  \n",
       "988                 False      False         False  \n",
       "\n",
       "[989 rows x 21 columns]"
      ]
     },
     "execution_count": 39,
     "metadata": {},
     "output_type": "execute_result"
    }
   ],
   "source": [
    "# see Missing Values\n",
    "train.isnull()"
   ]
  },
  {
   "cell_type": "code",
   "execution_count": 40,
   "id": "557213ca-2b5e-4131-a57c-c48f0d3bbf22",
   "metadata": {
    "tags": []
   },
   "outputs": [
    {
     "data": {
      "text/plain": [
       "Id                        0\n",
       "Firstname                 1\n",
       "Surname                  33\n",
       "Born                     40\n",
       "Died                    327\n",
       "Born country             31\n",
       "Born country code        31\n",
       "Born city                33\n",
       "Died country            339\n",
       "Died country code       339\n",
       "Died city               345\n",
       "Gender                    0\n",
       "Year                      0\n",
       "Category                  0\n",
       "Overall motivation      966\n",
       "Motivation                0\n",
       "Organization name       262\n",
       "Organization city       267\n",
       "Organization country    265\n",
       "Geo Shape               358\n",
       "Geo Point 2D            358\n",
       "dtype: int64"
      ]
     },
     "execution_count": 40,
     "metadata": {},
     "output_type": "execute_result"
    }
   ],
   "source": [
    "## see Missing Values\n",
    "train.isnull().sum()"
   ]
  },
  {
   "cell_type": "code",
   "execution_count": 41,
   "id": "7c0f14ba-2d77-43eb-bf87-254839cf7d74",
   "metadata": {
    "tags": []
   },
   "outputs": [],
   "source": [
    "# drop useless columns\n",
    "train.drop(['Id','Firstname','Surname','Motivation','Overall motivation','Born country code','Died country code','Born city','Died city'\n",
    "            ,'Organization name','Organization city','Organization country','Geo Shape','Geo Point 2D'],axis=1,inplace=True)"
   ]
  },
  {
   "cell_type": "code",
   "execution_count": 42,
   "id": "e52cdb3e-5fd3-4d0e-86ac-ed46fd307e4b",
   "metadata": {
    "tags": []
   },
   "outputs": [],
   "source": [
    "# rename columns\n",
    "train.rename(columns={'Born country':'Born_Country','Died country':'Died_Country'},inplace=True)"
   ]
  },
  {
   "cell_type": "code",
   "execution_count": 43,
   "id": "404b2119-e800-453b-9d03-4d1e865d408f",
   "metadata": {
    "tags": []
   },
   "outputs": [
    {
     "data": {
      "text/plain": [
       "Index(['Born', 'Died', 'Born_Country', 'Died_Country', 'Gender', 'Year',\n",
       "       'Category'],\n",
       "      dtype='object')"
      ]
     },
     "execution_count": 43,
     "metadata": {},
     "output_type": "execute_result"
    }
   ],
   "source": [
    "train.columns"
   ]
  },
  {
   "cell_type": "code",
   "execution_count": 44,
   "id": "e0ccea23-6fdd-4739-b770-eafb1b7d69ee",
   "metadata": {
    "tags": []
   },
   "outputs": [],
   "source": [
    "# replace Died Year to use\n",
    "train['Died'].replace(np.nan,0,inplace=True)"
   ]
  },
  {
   "cell_type": "code",
   "execution_count": 45,
   "id": "0ecc50d8-0f46-4666-91a8-cd49bd8e9197",
   "metadata": {
    "tags": []
   },
   "outputs": [],
   "source": [
    "# fun uses in  Alive colum\n",
    "def liv(x):\n",
    "    if x == 0:\n",
    "        return 1\n",
    "    else:\n",
    "        return 0"
   ]
  },
  {
   "cell_type": "code",
   "execution_count": 46,
   "id": "5b2a23f9-ab05-44a4-a901-b6ad65e836ee",
   "metadata": {
    "tags": []
   },
   "outputs": [
    {
     "data": {
      "text/plain": [
       "0    662\n",
       "1    327\n",
       "Name: Alive, dtype: int64"
      ]
     },
     "execution_count": 46,
     "metadata": {},
     "output_type": "execute_result"
    }
   ],
   "source": [
    "# create Alive column\n",
    "train['Alive'] = train['Died'].apply(liv)\n",
    "train['Alive'].value_counts() "
   ]
  },
  {
   "cell_type": "code",
   "execution_count": 47,
   "id": "8372dbfd-5618-4426-9fcc-0c6d3738907f",
   "metadata": {
    "tags": []
   },
   "outputs": [],
   "source": [
    "# covert some colunm to data time series\n",
    "train['Born'] = pd.to_datetime(train.Born)\n",
    "train['Died'] = pd.to_datetime(train.Died)\n",
    "train['Year'] = train.Year.astype(int)"
   ]
  },
  {
   "cell_type": "code",
   "execution_count": 48,
   "id": "afb77df2-1cf2-46c1-9a3e-088dc743e171",
   "metadata": {},
   "outputs": [],
   "source": [
    "train['Born_Year'] = train.Born.dt.year\n",
    "train['Born_Month'] = train.Born.dt.month\n",
    "train['Died_Year'] = train.Died.dt.year\n",
    "train['Died_Month'] = train.Died.dt.month\n",
    "train.drop(['Born','Died'],axis=1,inplace=True)"
   ]
  },
  {
   "cell_type": "code",
   "execution_count": 49,
   "id": "ce0b8606-5ae0-4698-a1f9-4ef0c017e9e3",
   "metadata": {},
   "outputs": [
    {
     "data": {
      "text/html": [
       "<div>\n",
       "<style scoped>\n",
       "    .dataframe tbody tr th:only-of-type {\n",
       "        vertical-align: middle;\n",
       "    }\n",
       "\n",
       "    .dataframe tbody tr th {\n",
       "        vertical-align: top;\n",
       "    }\n",
       "\n",
       "    .dataframe thead th {\n",
       "        text-align: right;\n",
       "    }\n",
       "</style>\n",
       "<table border=\"1\" class=\"dataframe\">\n",
       "  <thead>\n",
       "    <tr style=\"text-align: right;\">\n",
       "      <th></th>\n",
       "      <th>Born_Country</th>\n",
       "      <th>Died_Country</th>\n",
       "      <th>Gender</th>\n",
       "      <th>Year</th>\n",
       "      <th>Category</th>\n",
       "      <th>Alive</th>\n",
       "      <th>Born_Year</th>\n",
       "      <th>Born_Month</th>\n",
       "      <th>Died_Year</th>\n",
       "      <th>Died_Month</th>\n",
       "    </tr>\n",
       "  </thead>\n",
       "  <tbody>\n",
       "    <tr>\n",
       "      <th>0</th>\n",
       "      <td>Russia</td>\n",
       "      <td>USA</td>\n",
       "      <td>male</td>\n",
       "      <td>2007</td>\n",
       "      <td>Economics</td>\n",
       "      <td>0</td>\n",
       "      <td>1917.0</td>\n",
       "      <td>8.0</td>\n",
       "      <td>2008</td>\n",
       "      <td>6</td>\n",
       "    </tr>\n",
       "    <tr>\n",
       "      <th>1</th>\n",
       "      <td>USA</td>\n",
       "      <td>USA</td>\n",
       "      <td>male</td>\n",
       "      <td>1923</td>\n",
       "      <td>Physics</td>\n",
       "      <td>0</td>\n",
       "      <td>1868.0</td>\n",
       "      <td>3.0</td>\n",
       "      <td>1953</td>\n",
       "      <td>12</td>\n",
       "    </tr>\n",
       "    <tr>\n",
       "      <th>2</th>\n",
       "      <td>USA</td>\n",
       "      <td>USA</td>\n",
       "      <td>male</td>\n",
       "      <td>1969</td>\n",
       "      <td>Physics</td>\n",
       "      <td>0</td>\n",
       "      <td>1929.0</td>\n",
       "      <td>9.0</td>\n",
       "      <td>2019</td>\n",
       "      <td>5</td>\n",
       "    </tr>\n",
       "    <tr>\n",
       "      <th>3</th>\n",
       "      <td>East Timor</td>\n",
       "      <td>NaN</td>\n",
       "      <td>male</td>\n",
       "      <td>1996</td>\n",
       "      <td>Peace</td>\n",
       "      <td>1</td>\n",
       "      <td>1948.0</td>\n",
       "      <td>2.0</td>\n",
       "      <td>1970</td>\n",
       "      <td>1</td>\n",
       "    </tr>\n",
       "    <tr>\n",
       "      <th>4</th>\n",
       "      <td>France</td>\n",
       "      <td>France</td>\n",
       "      <td>male</td>\n",
       "      <td>1901</td>\n",
       "      <td>Literature</td>\n",
       "      <td>0</td>\n",
       "      <td>1839.0</td>\n",
       "      <td>3.0</td>\n",
       "      <td>1907</td>\n",
       "      <td>9</td>\n",
       "    </tr>\n",
       "    <tr>\n",
       "      <th>...</th>\n",
       "      <td>...</td>\n",
       "      <td>...</td>\n",
       "      <td>...</td>\n",
       "      <td>...</td>\n",
       "      <td>...</td>\n",
       "      <td>...</td>\n",
       "      <td>...</td>\n",
       "      <td>...</td>\n",
       "      <td>...</td>\n",
       "      <td>...</td>\n",
       "    </tr>\n",
       "    <tr>\n",
       "      <th>984</th>\n",
       "      <td>USA</td>\n",
       "      <td>USA</td>\n",
       "      <td>male</td>\n",
       "      <td>2002</td>\n",
       "      <td>Chemistry</td>\n",
       "      <td>0</td>\n",
       "      <td>1917.0</td>\n",
       "      <td>6.0</td>\n",
       "      <td>2010</td>\n",
       "      <td>12</td>\n",
       "    </tr>\n",
       "    <tr>\n",
       "      <th>985</th>\n",
       "      <td>USSR (now Russia)</td>\n",
       "      <td>NaN</td>\n",
       "      <td>male</td>\n",
       "      <td>2003</td>\n",
       "      <td>Physics</td>\n",
       "      <td>0</td>\n",
       "      <td>1928.0</td>\n",
       "      <td>6.0</td>\n",
       "      <td>2017</td>\n",
       "      <td>3</td>\n",
       "    </tr>\n",
       "    <tr>\n",
       "      <th>986</th>\n",
       "      <td>USA</td>\n",
       "      <td>USA</td>\n",
       "      <td>male</td>\n",
       "      <td>2005</td>\n",
       "      <td>Physics</td>\n",
       "      <td>0</td>\n",
       "      <td>1925.0</td>\n",
       "      <td>9.0</td>\n",
       "      <td>2018</td>\n",
       "      <td>12</td>\n",
       "    </tr>\n",
       "    <tr>\n",
       "      <th>987</th>\n",
       "      <td>Belgium</td>\n",
       "      <td>France</td>\n",
       "      <td>male</td>\n",
       "      <td>2005</td>\n",
       "      <td>Chemistry</td>\n",
       "      <td>0</td>\n",
       "      <td>1930.0</td>\n",
       "      <td>10.0</td>\n",
       "      <td>2015</td>\n",
       "      <td>1</td>\n",
       "    </tr>\n",
       "    <tr>\n",
       "      <th>988</th>\n",
       "      <td>Germany</td>\n",
       "      <td>NaN</td>\n",
       "      <td>male</td>\n",
       "      <td>2005</td>\n",
       "      <td>Economics</td>\n",
       "      <td>1</td>\n",
       "      <td>1930.0</td>\n",
       "      <td>6.0</td>\n",
       "      <td>1970</td>\n",
       "      <td>1</td>\n",
       "    </tr>\n",
       "  </tbody>\n",
       "</table>\n",
       "<p>989 rows × 10 columns</p>\n",
       "</div>"
      ],
      "text/plain": [
       "          Born_Country Died_Country Gender  Year    Category  Alive  \\\n",
       "0               Russia          USA   male  2007   Economics      0   \n",
       "1                  USA          USA   male  1923     Physics      0   \n",
       "2                  USA          USA   male  1969     Physics      0   \n",
       "3           East Timor          NaN   male  1996       Peace      1   \n",
       "4               France       France   male  1901  Literature      0   \n",
       "..                 ...          ...    ...   ...         ...    ...   \n",
       "984                USA          USA   male  2002   Chemistry      0   \n",
       "985  USSR (now Russia)          NaN   male  2003     Physics      0   \n",
       "986                USA          USA   male  2005     Physics      0   \n",
       "987            Belgium       France   male  2005   Chemistry      0   \n",
       "988            Germany          NaN   male  2005   Economics      1   \n",
       "\n",
       "     Born_Year  Born_Month  Died_Year  Died_Month  \n",
       "0       1917.0         8.0       2008           6  \n",
       "1       1868.0         3.0       1953          12  \n",
       "2       1929.0         9.0       2019           5  \n",
       "3       1948.0         2.0       1970           1  \n",
       "4       1839.0         3.0       1907           9  \n",
       "..         ...         ...        ...         ...  \n",
       "984     1917.0         6.0       2010          12  \n",
       "985     1928.0         6.0       2017           3  \n",
       "986     1925.0         9.0       2018          12  \n",
       "987     1930.0        10.0       2015           1  \n",
       "988     1930.0         6.0       1970           1  \n",
       "\n",
       "[989 rows x 10 columns]"
      ]
     },
     "execution_count": 49,
     "metadata": {},
     "output_type": "execute_result"
    }
   ],
   "source": [
    "train"
   ]
  },
  {
   "cell_type": "markdown",
   "id": "28a466e1-5a32-4410-8159-73d28475c0c4",
   "metadata": {
    "tags": []
   },
   "source": [
    "## Visualiziton of Data"
   ]
  },
  {
   "cell_type": "markdown",
   "id": "faf0a0bf-f303-4d38-a336-a7c335b5a31a",
   "metadata": {
    "tags": []
   },
   "source": [
    "### Gender"
   ]
  },
  {
   "cell_type": "code",
   "execution_count": 50,
   "id": "cdfe119f-ef26-4e52-a7f6-c4adb1d310af",
   "metadata": {},
   "outputs": [
    {
     "data": {
      "image/png": "[encoded data removed]",
      "text/plain": [
       "<Figure size 600x600 with 1 Axes>"
      ]
     },
     "metadata": {},
     "output_type": "display_data"
    }
   ],
   "source": [
    "labels = train['Gender'].unique()\n",
    "size = train['Gender'].value_counts()\n",
    "plt.figure(figsize=(6,6))\n",
    "plt.pie(size,labels=labels,autopct='%1.1f%%',startangle=0)\n",
    "plt.legend(train['Gender'].value_counts(),loc = 'lower left')\n",
    "plt.title('The Presentage of Nobel Prize Winners by Gender')\n",
    "plt.show()"
   ]
  },
  {
   "cell_type": "markdown",
   "id": "dac461d7-d876-458c-963b-f0da669b0bce",
   "metadata": {
    "tags": []
   },
   "source": [
    "### Category"
   ]
  },
  {
   "cell_type": "code",
   "execution_count": 51,
   "id": "e3579b88-b7b7-4870-a3e0-a39cda07ba85",
   "metadata": {
    "tags": []
   },
   "outputs": [
    {
     "data": {
      "image/png": "[encoded data removed]",
      "text/plain": [
       "<Figure size 600x600 with 1 Axes>"
      ]
     },
     "metadata": {},
     "output_type": "display_data"
    }
   ],
   "source": [
    "labels = ['Medicine','Physics', 'Chemistry','Literature','Peace', 'Economics']\n",
    "size = train.Category.value_counts()\n",
    "plt.figure(figsize=(6,6))\n",
    "plt.pie(size,labels=labels,autopct='%1.1f%%',startangle=0)\n",
    "plt.legend(train.Category.value_counts(),loc = 'lower left')\n",
    "plt.title('The Presentage of Nobel Prize Winners by Category')\n",
    "plt.show()"
   ]
  },
  {
   "cell_type": "markdown",
   "id": "f4b080b8-101d-42bd-b635-b8317165d0f6",
   "metadata": {
    "tags": []
   },
   "source": [
    "### Alive"
   ]
  },
  {
   "cell_type": "code",
   "execution_count": 52,
   "id": "091fd620-ec8f-4879-be3c-a87e243febc2",
   "metadata": {
    "tags": []
   },
   "outputs": [
    {
     "data": {
      "image/png": "[encoded data removed]",
      "text/plain": [
       "<Figure size 600x600 with 1 Axes>"
      ]
     },
     "metadata": {},
     "output_type": "display_data"
    }
   ],
   "source": [
    "labels = ['Died','Alive']\n",
    "size = train.Alive.value_counts()\n",
    "plt.figure(figsize=(6,6))\n",
    "plt.pie(size,labels=labels,autopct='%1.1f%%',startangle=0)\n",
    "plt.legend(train.Alive.value_counts(),loc = 'lower left')\n",
    "plt.title('The Presentage of Nobel Prize Winners is Alive or Not')\n",
    "plt.show()"
   ]
  },
  {
   "cell_type": "code",
   "execution_count": 53,
   "id": "254d2bf2-041b-4b37-b570-414e12996646",
   "metadata": {
    "tags": []
   },
   "outputs": [
    {
     "data": {
      "image/png": "[encoded data removed]",
      "text/plain": [
       "<Figure size 640x480 with 1 Axes>"
      ]
     },
     "metadata": {},
     "output_type": "display_data"
    }
   ],
   "source": [
    "ax = sns.countplot(train,x='Alive',hue='Gender')\n",
    "ax.bar_label(ax.containers[0],label_type='edge')\n",
    "ax.bar_label(ax.containers[1],label_type='edge')\n",
    "ax.bar_label(ax.containers[2],label_type='edge')\n",
    "plt.title('Nobel Prize Winners is Alive or Not applying to Gender')\n",
    "plt.xlabel({0:'Died',1:'Alive'})\n",
    "plt.show()"
   ]
  },
  {
   "cell_type": "markdown",
   "id": "403a9b18-5358-43bc-83e8-533fb3dc913c",
   "metadata": {
    "tags": []
   },
   "source": [
    "### Month"
   ]
  },
  {
   "cell_type": "markdown",
   "id": "1a2e4c8f-8a5e-423b-84f3-8159d1c62852",
   "metadata": {},
   "source": [
    "#### Born Month"
   ]
  },
  {
   "cell_type": "code",
   "execution_count": 54,
   "id": "1b519ca6-e68d-4691-9faf-ce98ab7c65a0",
   "metadata": {},
   "outputs": [
    {
     "data": {
      "image/png": "[encoded data removed]",
      "text/plain": [
       "<Figure size 640x480 with 1 Axes>"
      ]
     },
     "metadata": {},
     "output_type": "display_data"
    }
   ],
   "source": [
    "ax =sns.countplot(train,x='Born_Month',width=.9)\n",
    "ax.bar_label(ax.containers[0],label_type='edge')\n",
    "plt.xlabel(['Jan','Feb','Mar','Apr','May','Jun','Jul','Aug','Sep','Oct','Nov','Dec'])\n",
    "plt.title('The Born Month  of Nobel Prize Winners')\n",
    "plt.show()"
   ]
  },
  {
   "cell_type": "markdown",
   "id": "860b9305-2eb2-4960-a6fa-4f969c219ff9",
   "metadata": {},
   "source": [
    "#### Died Month"
   ]
  },
  {
   "cell_type": "code",
   "execution_count": 55,
   "id": "f2f8e3db-ae53-4972-b8de-c0b6d1ba7cfa",
   "metadata": {
    "tags": []
   },
   "outputs": [
    {
     "data": {
      "image/png": "[encoded data removed]",
      "text/plain": [
       "<Figure size 640x480 with 1 Axes>"
      ]
     },
     "metadata": {},
     "output_type": "display_data"
    }
   ],
   "source": [
    "ax = sns.countplot(train,x='Died_Month',width=.9)\n",
    "ax.bar_label(ax.containers[0],label_type='edge')\n",
    "plt.xlabel(['Jan','Feb','Mar','Apr','May','Jun','Jul','Aug','Sep','Oct','Nov','Dec'])\n",
    "plt.title('The Died Month  of Nobel Prize Winners')\n",
    "plt.show()"
   ]
  },
  {
   "cell_type": "markdown",
   "id": "d83d9e4c-47f2-4c0a-ad50-5bb8898ab0b6",
   "metadata": {},
   "source": [
    "### Country"
   ]
  },
  {
   "cell_type": "markdown",
   "id": "e0ca6a3c-834d-466c-b427-09136f35af0c",
   "metadata": {},
   "source": [
    "#### Born Country"
   ]
  },
  {
   "cell_type": "code",
   "execution_count": 56,
   "id": "0adfd498-99f7-438d-82be-8af124591749",
   "metadata": {
    "tags": []
   },
   "outputs": [
    {
     "data": {
      "text/plain": [
       "USA                289\n",
       "United Kingdom      90\n",
       "Germany             67\n",
       "France              56\n",
       "Sweden              30\n",
       "Japan               28\n",
       "Canada              21\n",
       "Switzerland         19\n",
       "the Netherlands     19\n",
       "Italy               18\n",
       "Name: Born_Country, dtype: int64"
      ]
     },
     "execution_count": 56,
     "metadata": {},
     "output_type": "execute_result"
    }
   ],
   "source": [
    "#  10 top of countries for Nobel winner Born\n",
    "train['Born_Country'].value_counts().nlargest(n=10)"
   ]
  },
  {
   "cell_type": "markdown",
   "id": "b856918d-31e5-425c-96ab-18d7d0230128",
   "metadata": {
    "tags": []
   },
   "source": [
    "#### Died Country"
   ]
  },
  {
   "cell_type": "code",
   "execution_count": 57,
   "id": "13bfba29-f6da-4db9-8035-a09acd231a35",
   "metadata": {},
   "outputs": [
    {
     "data": {
      "text/plain": [
       "USA                           238\n",
       "United Kingdom                 77\n",
       "France                         53\n",
       "Germany                        36\n",
       "Sweden                         29\n",
       "Switzerland                    29\n",
       "West Germany (now Germany)     23\n",
       "Italy                          15\n",
       "Japan                          11\n",
       "Spain                          10\n",
       "Name: Died_Country, dtype: int64"
      ]
     },
     "execution_count": 57,
     "metadata": {},
     "output_type": "execute_result"
    }
   ],
   "source": [
    "#  10 top of countries for Nobel winner Died\n",
    "train['Died_Country'].value_counts().nlargest(n=10)"
   ]
  },
  {
   "cell_type": "markdown",
   "id": "4e245bfe-6059-4970-94f3-b05d254482b2",
   "metadata": {},
   "source": [
    "### Year"
   ]
  },
  {
   "cell_type": "code",
   "execution_count": 58,
   "id": "70866507-ed41-4c9f-9a19-a9e2ca4b9c6c",
   "metadata": {
    "tags": []
   },
   "outputs": [
    {
     "data": {
      "text/plain": [
       "2001    15\n",
       "2019    14\n",
       "2022    14\n",
       "2014    13\n",
       "1996    13\n",
       "2011    13\n",
       "2013    13\n",
       "2002    13\n",
       "2018    13\n",
       "2009    13\n",
       "Name: Year, dtype: int64"
      ]
     },
     "execution_count": 58,
     "metadata": {},
     "output_type": "execute_result"
    }
   ],
   "source": [
    "#  10 top of Years to won a Nobel Prize for Nobel winner \n",
    "train['Year'].value_counts().nlargest(n=10)"
   ]
  }
 ],
 "metadata": {
  "kernelspec": {
   "display_name": "Python 3 (ipykernel)",
   "language": "python",
   "name": "python3"
  },
  "language_info": {
   "codemirror_mode": {
    "name": "ipython",
    "version": 3
   },
   "file_extension": ".py",
   "mimetype": "text/x-python",
   "name": "python",
   "nbconvert_exporter": "python",
   "pygments_lexer": "ipython3",
   "version": "3.11.3"
  },
  "toc-autonumbering": false
 },
 "nbformat": 4,
 "nbformat_minor": 5
}
